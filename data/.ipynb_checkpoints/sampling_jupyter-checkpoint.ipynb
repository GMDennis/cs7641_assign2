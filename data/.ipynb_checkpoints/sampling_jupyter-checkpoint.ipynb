{
 "cells": [
  {
   "cell_type": "code",
   "execution_count": 1,
   "id": "serial-princess",
   "metadata": {},
   "outputs": [],
   "source": [
    "import sys\n",
    "sys.path.append('/usr/local/lib/python3.9/site-packages')"
   ]
  },
  {
   "cell_type": "code",
   "execution_count": 2,
   "id": "western-palace",
   "metadata": {},
   "outputs": [],
   "source": [
    "import numpy as np\n",
    "import pandas as pd"
   ]
  },
  {
   "cell_type": "code",
   "execution_count": 6,
   "id": "manual-encounter",
   "metadata": {},
   "outputs": [],
   "source": [
    "train_df = pd.read_csv('./fmnist_train.csv')"
   ]
  },
  {
   "cell_type": "code",
   "execution_count": 7,
   "id": "interior-wonder",
   "metadata": {},
   "outputs": [
    {
     "name": "stdout",
     "output_type": "stream",
     "text": [
      "      label  pixel1  pixel2  pixel3  pixel4  pixel5  pixel6  pixel7  pixel8  \\\n",
      "0         0       0       0       0       0       1       2       3       0   \n",
      "1         7       0       0       0       0       0       0       0       0   \n",
      "2         9       0       0       0       0       0       0       0       0   \n",
      "3         1       0       0       0       0       0       0       0       0   \n",
      "4         6       0       0       1       1       0       0       1      79   \n",
      "...     ...     ...     ...     ...     ...     ...     ...     ...     ...   \n",
      "5395      3       0       0       0       0       0       0       0       0   \n",
      "5396      3       0       0       0       0       0       0       0       0   \n",
      "5397      1       0       0       0       0       0       0       0       0   \n",
      "5398      2       0       0       0       0       0       0       1       0   \n",
      "5399      3       0       0       0       0       0       0       0       0   \n",
      "\n",
      "      pixel9  ...  pixel775  pixel776  pixel777  pixel778  pixel779  pixel780  \\\n",
      "0          0  ...       142       130        17         0         2         1   \n",
      "1          0  ...         0         0         0         0         0         0   \n",
      "2          0  ...         0         0         0         0         0         0   \n",
      "3          0  ...        92         0         0         0         0         0   \n",
      "4        164  ...         0         1         0        71       196       188   \n",
      "...      ...  ...       ...       ...       ...       ...       ...       ...   \n",
      "5395       0  ...        93         0         0         0         1         0   \n",
      "5396       0  ...        20         0         0         0         0         0   \n",
      "5397       0  ...        18         0         0         0         0         0   \n",
      "5398       0  ...         3         4         0         0       128       190   \n",
      "5399       0  ...        66         0         0         0         0         0   \n",
      "\n",
      "      pixel781  pixel782  pixel783  pixel784  \n",
      "0            0         0         0         0  \n",
      "1            0         0         0         0  \n",
      "2            0         0         0         0  \n",
      "3            0         0         0         0  \n",
      "4          201       208       124         0  \n",
      "...        ...       ...       ...       ...  \n",
      "5395         0         0         0         0  \n",
      "5396         0         0         0         0  \n",
      "5397         0         0         0         0  \n",
      "5398       116         0         0         0  \n",
      "5399         0         0         0         0  \n",
      "\n",
      "[5400 rows x 785 columns]\n"
     ]
    }
   ],
   "source": [
    "print(train_df)"
   ]
  },
  {
   "cell_type": "code",
   "execution_count": 21,
   "id": "speaking-treaty",
   "metadata": {},
   "outputs": [
    {
     "name": "stdout",
     "output_type": "stream",
     "text": [
      "       label  pixel1  pixel2  pixel3  pixel4  pixel5  pixel6  pixel7  pixel8  \\\n",
      "50738      0       0       0       0       0       1       2       3       0   \n",
      "43715      7       0       0       0       0       0       0       0       0   \n",
      "37960      9       0       0       0       0       0       0       0       0   \n",
      "11140      1       0       0       0       0       0       0       0       0   \n",
      "16401      6       0       0       1       1       0       0       1      79   \n",
      "...      ...     ...     ...     ...     ...     ...     ...     ...     ...   \n",
      "53989      3       0       0       0       0       0       0       0       0   \n",
      "46701      7       0       0       0       0       0       0       0       0   \n",
      "1881       0       0       0       0       0       0       0       0       0   \n",
      "38053      7       0       0       0       0       0       0       0       0   \n",
      "25172      2       0       0       0       2       2       0       0       0   \n",
      "\n",
      "       pixel9  ...  pixel775  pixel776  pixel777  pixel778  pixel779  \\\n",
      "50738       0  ...       142       130        17         0         2   \n",
      "43715       0  ...         0         0         0         0         0   \n",
      "37960       0  ...         0         0         0         0         0   \n",
      "11140       0  ...        92         0         0         0         0   \n",
      "16401     164  ...         0         1         0        71       196   \n",
      "...       ...  ...       ...       ...       ...       ...       ...   \n",
      "53989       0  ...        95        43         0         0         0   \n",
      "46701       0  ...         0         0         0         0         0   \n",
      "1881        1  ...       129       119       118        61         0   \n",
      "38053       0  ...         0         0         0         0         0   \n",
      "25172       4  ...         0         0         0         0        89   \n",
      "\n",
      "       pixel780  pixel781  pixel782  pixel783  pixel784  \n",
      "50738         1         0         0         0         0  \n",
      "43715         0         0         0         0         0  \n",
      "37960         0         0         0         0         0  \n",
      "11140         0         0         0         0         0  \n",
      "16401       188       201       208       124         0  \n",
      "...         ...       ...       ...       ...       ...  \n",
      "53989         0         0         0         0         0  \n",
      "46701         0         0         0         0         0  \n",
      "1881          0         0         0         0         0  \n",
      "38053         0         0         0         0         0  \n",
      "25172        53        65        55        27         0  \n",
      "\n",
      "[6000 rows x 785 columns]\n"
     ]
    }
   ],
   "source": [
    "sampled_train_df = train_df.sample(n=6000)\n",
    "print(sampled_train_df)"
   ]
  },
  {
   "cell_type": "code",
   "execution_count": 23,
   "id": "numeric-processing",
   "metadata": {},
   "outputs": [],
   "source": [
    "s_train_df = sampled_train_df[:5400]\n",
    "s_val_df = sampled_train_df[5400:]"
   ]
  },
  {
   "cell_type": "code",
   "execution_count": 24,
   "id": "unique-temperature",
   "metadata": {},
   "outputs": [
    {
     "name": "stdout",
     "output_type": "stream",
     "text": [
      "5400 600\n"
     ]
    }
   ],
   "source": [
    "print(len(s_train_df), len(s_val_df))"
   ]
  },
  {
   "cell_type": "code",
   "execution_count": 25,
   "id": "peripheral-theme",
   "metadata": {},
   "outputs": [],
   "source": [
    "s_train_df.to_csv('fmnist_train.csv', index=False)\n",
    "s_val_df.to_csv('fmnist_validation.csv', index=False)"
   ]
  },
  {
   "cell_type": "code",
   "execution_count": 27,
   "id": "trying-management",
   "metadata": {},
   "outputs": [
    {
     "name": "stdout",
     "output_type": "stream",
     "text": [
      "10000\n"
     ]
    }
   ],
   "source": [
    "test_df = pd.read_csv('./fashion-mnist_test.csv')\n",
    "print(len(test_df))"
   ]
  },
  {
   "cell_type": "code",
   "execution_count": 28,
   "id": "comfortable-guinea",
   "metadata": {},
   "outputs": [],
   "source": [
    "sampled_test_df = test_df.sample(n=1000)\n",
    "sampled_test_df.to_csv('fmnist_test.csv', index=False)"
   ]
  }
 ],
 "metadata": {
  "kernelspec": {
   "display_name": "Python 3",
   "language": "python",
   "name": "python3"
  },
  "language_info": {
   "codemirror_mode": {
    "name": "ipython",
    "version": 3
   },
   "file_extension": ".py",
   "mimetype": "text/x-python",
   "name": "python",
   "nbconvert_exporter": "python",
   "pygments_lexer": "ipython3",
   "version": "3.9.2"
  }
 },
 "nbformat": 4,
 "nbformat_minor": 5
}
